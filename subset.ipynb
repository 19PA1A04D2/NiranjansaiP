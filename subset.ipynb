{
  "nbformat": 4,
  "nbformat_minor": 0,
  "metadata": {
    "colab": {
      "name": "subset.ipynb",
      "provenance": [],
      "authorship_tag": "ABX9TyM2yoNvSPdDG/kSIRsNeZDe",
      "include_colab_link": true
    },
    "kernelspec": {
      "name": "python3",
      "display_name": "Python 3"
    }
  },
  "cells": [
    {
      "cell_type": "markdown",
      "metadata": {
        "id": "view-in-github",
        "colab_type": "text"
      },
      "source": [
        "<a href=\"https://colab.research.google.com/github/19PA1A04D2/NiranjansaiP/blob/master/subset.ipynb\" target=\"_parent\"><img src=\"https://colab.research.google.com/assets/colab-badge.svg\" alt=\"Open In Colab\"/></a>"
      ]
    },
    {
      "cell_type": "code",
      "metadata": {
        "id": "5BCJAqtpmQ-1",
        "colab_type": "code",
        "colab": {
          "base_uri": "https://localhost:8080/",
          "height": 34
        },
        "outputId": "1beef0ee-3708-42fc-88e7-eb83e62323d5"
      },
      "source": [
        "import pandas as pd\n",
        "df=pd.read_csv(\"/content/sample_data/california_housing_train.csv\")\n",
        "small_range=list(range(5))\n",
        "print(small_range)"
      ],
      "execution_count": 4,
      "outputs": [
        {
          "output_type": "stream",
          "text": [
            "[0, 1, 2, 3, 4]\n"
          ],
          "name": "stdout"
        }
      ]
    },
    {
      "cell_type": "code",
      "metadata": {
        "id": "1D5Y9TlpnPVj",
        "colab_type": "code",
        "colab": {
          "base_uri": "https://localhost:8080/",
          "height": 119
        },
        "outputId": "5d6e5916-3687-4511-95cc-f00165c48851"
      },
      "source": [
        "import pandas as pd\n",
        "df=pd.read_csv(\"/content/sample_data/california_housing_train.csv\")\n",
        "subset=df.iloc[:,small_range]\n",
        "print(subset.head())"
      ],
      "execution_count": 5,
      "outputs": [
        {
          "output_type": "stream",
          "text": [
            "   longitude  latitude  housing_median_age  total_rooms  total_bedrooms\n",
            "0    -114.31     34.19                15.0       5612.0          1283.0\n",
            "1    -114.47     34.40                19.0       7650.0          1901.0\n",
            "2    -114.56     33.69                17.0        720.0           174.0\n",
            "3    -114.57     33.64                14.0       1501.0           337.0\n",
            "4    -114.57     33.57                20.0       1454.0           326.0\n"
          ],
          "name": "stdout"
        }
      ]
    },
    {
      "cell_type": "code",
      "metadata": {
        "id": "YxZsMnrKmvWL",
        "colab_type": "code",
        "colab": {
          "base_uri": "https://localhost:8080/",
          "height": 34
        },
        "outputId": "2548b4d1-1400-4362-a62b-72ba9bda7048"
      },
      "source": [
        "print(df.loc[4, 'latitude'])"
      ],
      "execution_count": 8,
      "outputs": [
        {
          "output_type": "stream",
          "text": [
            "33.57\n"
          ],
          "name": "stdout"
        }
      ]
    },
    {
      "cell_type": "code",
      "metadata": {
        "id": "pmxoKTF7oVED",
        "colab_type": "code",
        "colab": {
          "base_uri": "https://localhost:8080/",
          "height": 85
        },
        "outputId": "bb207268-8bd1-4489-bf01-e0c6bb273360"
      },
      "source": [
        "print(df.iloc[[0,99,999],[0,2,3,5]])"
      ],
      "execution_count": 10,
      "outputs": [
        {
          "output_type": "stream",
          "text": [
            "     longitude  housing_median_age  total_rooms  population\n",
            "0      -114.31                15.0       5612.0      1015.0\n",
            "99     -115.59                20.0       1608.0       862.0\n",
            "999    -117.10                 6.0       1868.0       750.0\n"
          ],
          "name": "stdout"
        }
      ]
    },
    {
      "cell_type": "code",
      "metadata": {
        "id": "t6bUbjrBod2t",
        "colab_type": "code",
        "colab": {
          "base_uri": "https://localhost:8080/",
          "height": 238
        },
        "outputId": "ebf02211-a3c9-40fc-995e-523ec78394b1"
      },
      "source": [
        "print(df.head(n=10))"
      ],
      "execution_count": 11,
      "outputs": [
        {
          "output_type": "stream",
          "text": [
            "   longitude  latitude  ...  median_income  median_house_value\n",
            "0    -114.31     34.19  ...         1.4936             66900.0\n",
            "1    -114.47     34.40  ...         1.8200             80100.0\n",
            "2    -114.56     33.69  ...         1.6509             85700.0\n",
            "3    -114.57     33.64  ...         3.1917             73400.0\n",
            "4    -114.57     33.57  ...         1.9250             65500.0\n",
            "5    -114.58     33.63  ...         3.3438             74000.0\n",
            "6    -114.58     33.61  ...         2.6768             82400.0\n",
            "7    -114.59     34.83  ...         1.7083             48500.0\n",
            "8    -114.59     33.61  ...         2.1782             58400.0\n",
            "9    -114.60     34.83  ...         2.1908             48100.0\n",
            "\n",
            "[10 rows x 9 columns]\n"
          ],
          "name": "stdout"
        }
      ]
    },
    {
      "cell_type": "code",
      "metadata": {
        "id": "H0Gvusl6ojd0",
        "colab_type": "code",
        "colab": {}
      },
      "source": [
        ""
      ],
      "execution_count": 0,
      "outputs": []
    }
  ]
}